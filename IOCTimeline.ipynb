{
 "cells": [
  {
   "cell_type": "markdown",
   "metadata": {},
   "source": [
    "## Setup Requirements"
   ]
  },
  {
   "cell_type": "code",
   "execution_count": 8,
   "metadata": {},
   "outputs": [
    {
     "name": "stdout",
     "output_type": "stream",
     "text": [
      "Requirement already satisfied: virustotal3 in /usr/local/Cellar/ipython/8.2.0/libexec/lib/python3.10/site-packages (1.0.8)\n",
      "Requirement already satisfied: requests in /usr/local/Cellar/ipython/8.2.0/libexec/lib/python3.10/site-packages (from virustotal3) (2.27.1)\n",
      "Requirement already satisfied: charset-normalizer~=2.0.0 in /usr/local/Cellar/ipython/8.2.0/libexec/lib/python3.10/site-packages (from requests->virustotal3) (2.0.12)\n",
      "Requirement already satisfied: certifi>=2017.4.17 in /usr/local/Cellar/ipython/8.2.0/libexec/lib/python3.10/site-packages (from requests->virustotal3) (2022.5.18.1)\n",
      "Requirement already satisfied: idna<4,>=2.5 in /usr/local/Cellar/ipython/8.2.0/libexec/lib/python3.10/site-packages (from requests->virustotal3) (3.3)\n",
      "Requirement already satisfied: urllib3<1.27,>=1.21.1 in /usr/local/Cellar/ipython/8.2.0/libexec/lib/python3.10/site-packages (from requests->virustotal3) (1.26.9)\n",
      "\u001b[33mWARNING: You are using pip version 22.0.2; however, version 22.1 is available.\n",
      "You should consider upgrading via the '/usr/local/Cellar/ipython/8.2.0/libexec/bin/python3.10 -m pip install --upgrade pip' command.\u001b[0m\u001b[33m\n",
      "\u001b[0mRequirement already satisfied: python-dotenv in /usr/local/Cellar/ipython/8.2.0/libexec/lib/python3.10/site-packages (0.20.0)\n",
      "\u001b[33mWARNING: You are using pip version 22.0.2; however, version 22.1 is available.\n",
      "You should consider upgrading via the '/usr/local/Cellar/ipython/8.2.0/libexec/bin/python3.10 -m pip install --upgrade pip' command.\u001b[0m\u001b[33m\n",
      "\u001b[0mCollecting pandas\n",
      "  Downloading pandas-1.4.2-cp310-cp310-macosx_10_9_x86_64.whl (11.1 MB)\n",
      "\u001b[2K     \u001b[38;2;114;156;31m━━━━━━━━━━━━━━━━━━━━━━━━━━━━━━━━━━━━━━━━\u001b[0m \u001b[32m11.1/11.1 MB\u001b[0m \u001b[31m8.6 MB/s\u001b[0m eta \u001b[36m0:00:00\u001b[0mm eta \u001b[36m0:00:01\u001b[0m[36m0:00:01\u001b[0m\n",
      "\u001b[?25hCollecting pytz>=2020.1\n",
      "  Downloading pytz-2022.1-py2.py3-none-any.whl (503 kB)\n",
      "\u001b[2K     \u001b[38;2;114;156;31m━━━━━━━━━━━━━━━━━━━━━━━━━━━━━━━━━━━━━━━\u001b[0m \u001b[32m503.5/503.5 KB\u001b[0m \u001b[31m8.2 MB/s\u001b[0m eta \u001b[36m0:00:00\u001b[0m31m11.6 MB/s\u001b[0m eta \u001b[36m0:00:01\u001b[0m\n",
      "\u001b[?25hRequirement already satisfied: numpy>=1.21.0 in /usr/local/Cellar/ipython/8.2.0/libexec/lib/python3.10/site-packages (from pandas) (1.22.3)\n",
      "Requirement already satisfied: python-dateutil>=2.8.1 in /usr/local/Cellar/ipython/8.2.0/libexec/lib/python3.10/site-packages (from pandas) (2.8.2)\n",
      "Requirement already satisfied: six>=1.5 in /usr/local/Cellar/six/1.16.0_2/lib/python3.10/site-packages (from python-dateutil>=2.8.1->pandas) (1.16.0)\n",
      "Installing collected packages: pytz, pandas\n",
      "Successfully installed pandas-1.4.2 pytz-2022.1\n",
      "\u001b[33mWARNING: You are using pip version 22.0.2; however, version 22.1 is available.\n",
      "You should consider upgrading via the '/usr/local/Cellar/ipython/8.2.0/libexec/bin/python3.10 -m pip install --upgrade pip' command.\u001b[0m\u001b[33m\n",
      "\u001b[0m"
     ]
    }
   ],
   "source": [
    "!{sys.executable} -m pip install virustotal3\n",
    "!{sys.executable} -m pip install python-dotenv\n",
    "!{sys.executable} -m pip install pandas"
   ]
  },
  {
   "cell_type": "code",
   "execution_count": 12,
   "metadata": {},
   "outputs": [],
   "source": [
    "import json\n",
    "import virustotal3.core as vt3core\n",
    "from dotenv import load_dotenv\n",
    "import os\n",
    "import csv\n",
    "import time\n",
    "import datetime\n",
    "import sys\n",
    "\n",
    "sys.path.append('/Users/bikram/tools/internal/mymodules')\n",
    "load_dotenv('/Users/bikram/tools/internal/mymodules/.env')\n",
    "\n",
    "VT_API = os.getenv('VT_API')\n",
    "vtcore_files = vt3core.Files(VT_API)\n",
    "vtcore_domains = vt3core.Domains(VT_API)\n",
    "\n",
    "collected_data_dir = './collected_data'\n",
    "input_file = './indicators.csv'\n",
    "timeline_csv = './timeline.csv'\n",
    "dates = []\n",
    "with open(timeline_csv, 'w+') as timeline_file:\n",
    "    timeline_writer = csv.writer(timeline_file)\n",
    "    timeline_writer.writerow(['Value', 'Type', 'Date'])\n"
   ]
  },
  {
   "cell_type": "markdown",
   "metadata": {},
   "source": [
    "## Get Data from VirusTotal"
   ]
  },
  {
   "cell_type": "code",
   "execution_count": 13,
   "metadata": {},
   "outputs": [],
   "source": [
    "# Read indicator records from input CSV file\n",
    "csv_file = open(input_file, 'r')\n",
    "csv_file_records = csv.DictReader(csv_file)\n",
    "\n",
    "for record in csv_file_records:\n",
    "    record_type = record['Type']\n",
    "    record_value = record['Value']\n",
    "    \n",
    "    record_out_path = '{0}/{1}.json'.format(collected_data_dir, record_value)\n",
    "    \n",
    "#     print(\"Getting data from VirusTotal for \" + record_value)\n",
    "\n",
    "    # Query VT and save indicator info if data does not exist\n",
    "    if(os.path.exists(record_out_path) == False):\n",
    "        \n",
    "        if(record_type == 'File'):\n",
    "            record_info = vtcore_files.info_file(record_value)\n",
    "        elif(record_type == 'Host'):\n",
    "            record_info = vtcore_domains.info_domain(record_value)\n",
    "        \n",
    "        with open(record_out_path, 'w+') as out_data:\n",
    "            out_data.write(json.dumps(record_info, indent=2))\n",
    "\n",
    "    # Parse indicator data file for dates\n",
    "    with open(record_out_path) as record_file:\n",
    "        record_info_all = json.loads(record_file.read())\n",
    "        record_info_data = record_info_all['data']['attributes']\n",
    "\n",
    "        # Add dates for indicator to timeline file\n",
    "        with open(timeline_csv, 'a+') as timeline_file:\n",
    "            timeline_writer = csv.writer(timeline_file)\n",
    "            \n",
    "            if('creation_date' in record_info_data):\n",
    "                creation_date = datetime.datetime.fromtimestamp(record_info_data['creation_date'])\n",
    "                timeline_writer.writerow([record_value, 'Creation Date', creation_date])\n",
    "            \n",
    "            if('last_modification_date' in record_info_data):\n",
    "                modification_date = datetime.datetime.fromtimestamp(record_info_data['last_modification_date'])\n",
    "                timeline_writer.writerow([record_value, 'Last Modification Date', modification_date])\n",
    "            \n",
    "            if(record_type == 'File'):\n",
    "                submission_date = datetime.datetime.fromtimestamp(record_info_data['first_submission_date'])\n",
    "                timeline_writer.writerow([record_value, 'First Submission Date', submission_date])\n",
    "\n",
    "    # time.sleep(60)\n",
    "                    \n",
    "csv_file.close()"
   ]
  },
  {
   "cell_type": "markdown",
   "metadata": {},
   "source": [
    "## Print Saved Dates"
   ]
  },
  {
   "cell_type": "code",
   "execution_count": 17,
   "metadata": {},
   "outputs": [
    {
     "data": {
      "text/html": [
       "<div>\n",
       "<style scoped>\n",
       "    .dataframe tbody tr th:only-of-type {\n",
       "        vertical-align: middle;\n",
       "    }\n",
       "\n",
       "    .dataframe tbody tr th {\n",
       "        vertical-align: top;\n",
       "    }\n",
       "\n",
       "    .dataframe thead th {\n",
       "        text-align: right;\n",
       "    }\n",
       "</style>\n",
       "<table border=\"1\" class=\"dataframe\">\n",
       "  <thead>\n",
       "    <tr style=\"text-align: right;\">\n",
       "      <th></th>\n",
       "      <th>Value</th>\n",
       "      <th>Type</th>\n",
       "      <th>Date</th>\n",
       "    </tr>\n",
       "  </thead>\n",
       "  <tbody>\n",
       "    <tr>\n",
       "      <th>54</th>\n",
       "      <td>3ce796e218e0a4fffd43fb91f1d2a806</td>\n",
       "      <td>Creation Date</td>\n",
       "      <td>2018-01-07 04:25:00</td>\n",
       "    </tr>\n",
       "    <tr>\n",
       "      <th>33</th>\n",
       "      <td>3532a97cd9a322d1423c56eb24000939</td>\n",
       "      <td>Creation Date</td>\n",
       "      <td>2018-01-07 04:25:00</td>\n",
       "    </tr>\n",
       "    <tr>\n",
       "      <th>60</th>\n",
       "      <td>f11fb84e8ea1b63d9771c8199d85a268</td>\n",
       "      <td>Creation Date</td>\n",
       "      <td>2018-01-07 04:25:00</td>\n",
       "    </tr>\n",
       "    <tr>\n",
       "      <th>51</th>\n",
       "      <td>cb1e8abeb5d512b4bce67776dbaa1f2f</td>\n",
       "      <td>Creation Date</td>\n",
       "      <td>2018-01-07 04:25:00</td>\n",
       "    </tr>\n",
       "    <tr>\n",
       "      <th>42</th>\n",
       "      <td>d7ae926c681b7cfdc62c6bf530317f07</td>\n",
       "      <td>Creation Date</td>\n",
       "      <td>2018-01-07 04:25:00</td>\n",
       "    </tr>\n",
       "    <tr>\n",
       "      <th>...</th>\n",
       "      <td>...</td>\n",
       "      <td>...</td>\n",
       "      <td>...</td>\n",
       "    </tr>\n",
       "    <tr>\n",
       "      <th>82</th>\n",
       "      <td>0edba804b993b1f98a7b8e891e90d07d</td>\n",
       "      <td>Last Modification Date</td>\n",
       "      <td>2022-02-07 15:02:34</td>\n",
       "    </tr>\n",
       "    <tr>\n",
       "      <th>52</th>\n",
       "      <td>cb1e8abeb5d512b4bce67776dbaa1f2f</td>\n",
       "      <td>Last Modification Date</td>\n",
       "      <td>2022-02-07 15:04:10</td>\n",
       "    </tr>\n",
       "    <tr>\n",
       "      <th>61</th>\n",
       "      <td>f11fb84e8ea1b63d9771c8199d85a268</td>\n",
       "      <td>Last Modification Date</td>\n",
       "      <td>2022-02-07 15:14:14</td>\n",
       "    </tr>\n",
       "    <tr>\n",
       "      <th>43</th>\n",
       "      <td>d7ae926c681b7cfdc62c6bf530317f07</td>\n",
       "      <td>Last Modification Date</td>\n",
       "      <td>2022-02-07 19:21:04</td>\n",
       "    </tr>\n",
       "    <tr>\n",
       "      <th>34</th>\n",
       "      <td>3532a97cd9a322d1423c56eb24000939</td>\n",
       "      <td>Last Modification Date</td>\n",
       "      <td>2022-02-07 19:57:08</td>\n",
       "    </tr>\n",
       "  </tbody>\n",
       "</table>\n",
       "<p>113 rows × 3 columns</p>\n",
       "</div>"
      ],
      "text/plain": [
       "                               Value                    Type  \\\n",
       "54  3ce796e218e0a4fffd43fb91f1d2a806           Creation Date   \n",
       "33  3532a97cd9a322d1423c56eb24000939           Creation Date   \n",
       "60  f11fb84e8ea1b63d9771c8199d85a268           Creation Date   \n",
       "51  cb1e8abeb5d512b4bce67776dbaa1f2f           Creation Date   \n",
       "42  d7ae926c681b7cfdc62c6bf530317f07           Creation Date   \n",
       "..                               ...                     ...   \n",
       "82  0edba804b993b1f98a7b8e891e90d07d  Last Modification Date   \n",
       "52  cb1e8abeb5d512b4bce67776dbaa1f2f  Last Modification Date   \n",
       "61  f11fb84e8ea1b63d9771c8199d85a268  Last Modification Date   \n",
       "43  d7ae926c681b7cfdc62c6bf530317f07  Last Modification Date   \n",
       "34  3532a97cd9a322d1423c56eb24000939  Last Modification Date   \n",
       "\n",
       "                  Date  \n",
       "54 2018-01-07 04:25:00  \n",
       "33 2018-01-07 04:25:00  \n",
       "60 2018-01-07 04:25:00  \n",
       "51 2018-01-07 04:25:00  \n",
       "42 2018-01-07 04:25:00  \n",
       "..                 ...  \n",
       "82 2022-02-07 15:02:34  \n",
       "52 2022-02-07 15:04:10  \n",
       "61 2022-02-07 15:14:14  \n",
       "43 2022-02-07 19:21:04  \n",
       "34 2022-02-07 19:57:08  \n",
       "\n",
       "[113 rows x 3 columns]"
      ]
     },
     "execution_count": 17,
     "metadata": {},
     "output_type": "execute_result"
    }
   ],
   "source": [
    "import pandas as pd\n",
    "\n",
    "df = pd.read_csv(timeline_csv, sep=\",\")\n",
    "df['Date'] = pd.to_datetime(df['Date'])\n",
    "# mask = df['Type'].isin(['First Submission Date', 'Last Modification Date'])\n",
    "# df = df[~mask]\n",
    "df.sort_values(by=['Date'])\n",
    "# df"
   ]
  },
  {
   "cell_type": "markdown",
   "metadata": {},
   "source": [
    "### Graph by Time of Day"
   ]
  },
  {
   "cell_type": "code",
   "execution_count": 18,
   "metadata": {},
   "outputs": [
    {
     "data": {
      "text/plain": [
       "<AxesSubplot:xlabel='Time'>"
      ]
     },
     "execution_count": 18,
     "metadata": {},
     "output_type": "execute_result"
    },
    {
     "data": {
      "image/png": "[encoded data removed]",
      "text/plain": [
       "<Figure size 1080x576 with 1 Axes>"
      ]
     },
     "metadata": {
      "needs_background": "light"
     },
     "output_type": "display_data"
    }
   ],
   "source": [
    "without_date = df['Date'].apply( lambda d : d.time() )\n",
    "df['Time'] = without_date\n",
    "df.groupby(['Time']).count()['Value'].plot(kind='bar', figsize=[15,8])"
   ]
  },
  {
   "cell_type": "markdown",
   "metadata": {},
   "source": [
    "### Graph by Date"
   ]
  },
  {
   "cell_type": "code",
   "execution_count": 19,
   "metadata": {},
   "outputs": [
    {
     "data": {
      "text/plain": [
       "<AxesSubplot:xlabel='Date_notime'>"
      ]
     },
     "execution_count": 19,
     "metadata": {},
     "output_type": "execute_result"
    },
    {
     "data": {
      "image/png": "[encoded data removed]",
      "text/plain": [
       "<Figure size 1080x576 with 1 Axes>"
      ]
     },
     "metadata": {
      "needs_background": "light"
     },
     "output_type": "display_data"
    }
   ],
   "source": [
    "without_time = df['Date'].apply( lambda d : d.date() )\n",
    "df['Date_notime'] = without_time\n",
    "df.groupby(['Date_notime']).count()['Value'].plot(kind='bar', figsize=[15,8])"
   ]
  },
  {
   "cell_type": "markdown",
   "metadata": {},
   "source": [
    "### Graph by Weekday"
   ]
  },
  {
   "cell_type": "code",
   "execution_count": 20,
   "metadata": {},
   "outputs": [
    {
     "data": {
      "text/plain": [
       "<AxesSubplot:xlabel='Weekday'>"
      ]
     },
     "execution_count": 20,
     "metadata": {},
     "output_type": "execute_result"
    },
    {
     "data": {
      "image/png": "[encoded data removed]",
      "text/plain": [
       "<Figure size 1080x576 with 1 Axes>"
      ]
     },
     "metadata": {
      "needs_background": "light"
     },
     "output_type": "display_data"
    }
   ],
   "source": [
    "without_time = df['Date'].apply( lambda d : d.weekday() )\n",
    "df['Weekday'] = without_time\n",
    "df.groupby(['Weekday']).count()['Value'].plot(kind='bar', figsize=[15,8])"
   ]
  },
  {
   "cell_type": "markdown",
   "metadata": {},
   "source": [
    "### Graph by Month"
   ]
  },
  {
   "cell_type": "code",
   "execution_count": 21,
   "metadata": {},
   "outputs": [
    {
     "data": {
      "text/plain": [
       "<AxesSubplot:xlabel='Month'>"
      ]
     },
     "execution_count": 21,
     "metadata": {},
     "output_type": "execute_result"
    },
    {
     "data": {
      "image/png": "[encoded data removed]",
      "text/plain": [
       "<Figure size 1080x576 with 1 Axes>"
      ]
     },
     "metadata": {
      "needs_background": "light"
     },
     "output_type": "display_data"
    }
   ],
   "source": [
    "df['Month'] = pd.DatetimeIndex(df['Date']).month\n",
    "df.groupby(['Month']).count()['Value'].plot(kind='bar', figsize=[15,8])"
   ]
  }
 ],
 "metadata": {
  "interpreter": {
   "hash": "e7370f93d1d0cde622a1f8e1c04877d8463912d04d973331ad4851f04de6915a"
  },
  "kernelspec": {
   "display_name": "Python 3 (ipykernel)",
   "language": "python",
   "name": "python3"
  },
  "language_info": {
   "codemirror_mode": {
    "name": "ipython",
    "version": 3
   },
   "file_extension": ".py",
   "mimetype": "text/x-python",
   "name": "python",
   "nbconvert_exporter": "python",
   "pygments_lexer": "ipython3",
   "version": "3.10.2"
  }
 },
 "nbformat": 4,
 "nbformat_minor": 2
}
